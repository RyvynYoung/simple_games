{
 "cells": [
  {
   "cell_type": "markdown",
   "metadata": {},
   "source": [
    "## Cows and Bulls 2 digit version\n",
    "Number Guessing Game"
   ]
  },
  {
   "cell_type": "code",
   "execution_count": null,
   "metadata": {},
   "outputs": [],
   "source": [
    "\n",
    "import random\n",
    "# 2 digit number guessing game\n",
    "secret_number = str(random.randint(10,99))\n",
    "print(\"Guess the number. It has 2 digits.\")\n",
    "\n",
    "remaining_try = 7\n",
    "\n",
    "while remaining_try > 0:\n",
    "    player_guess = input('Enter your guess: ')\n",
    "    \n",
    "    if player_guess == secret_number:\n",
    "        print(\"Congratulations! You Win!\")\n",
    "        break\n",
    "    else:\n",
    "        bulls = 0\n",
    "        cows = 0\n",
    "        \n",
    "        if player_guess[0] == secret_number[0]:\n",
    "            bulls += 1\n",
    "        else:\n",
    "            if player_guess[0] == secret_number[1]:\n",
    "                cows += 1\n",
    "            \n",
    "        if player_guess[1] == secret_number[1]:\n",
    "            bulls += 1\n",
    "        else:\n",
    "            if player_guess[1] == secret_number[0]:\n",
    "                cows += 1\n",
    "            \n",
    "        print('bulls =', bulls)\n",
    "        print('cows =', cows)\n",
    "        \n",
    "        remaining_try -= 1\n",
    "        \n",
    "        if remaining_try < 1:\n",
    "            print('Sorry, you lost the game')\n",
    "            print('The secret number was:', secret_number)\n",
    "            break\n",
    "\n",
    "\n",
    "\n",
    "\n",
    "\n"
   ]
  }
 ],
 "metadata": {
  "kernelspec": {
   "display_name": "Python 3",
   "language": "python",
   "name": "python3"
  },
  "language_info": {
   "codemirror_mode": {
    "name": "ipython",
    "version": 3
   },
   "file_extension": ".py",
   "mimetype": "text/x-python",
   "name": "python",
   "nbconvert_exporter": "python",
   "pygments_lexer": "ipython3",
   "version": "3.7.6"
  }
 },
 "nbformat": 4,
 "nbformat_minor": 4
}
